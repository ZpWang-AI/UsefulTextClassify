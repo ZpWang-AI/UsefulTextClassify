{
 "cells": [
  {
   "cell_type": "code",
   "execution_count": 1,
   "metadata": {},
   "outputs": [
    {
     "name": "stdout",
     "output_type": "stream",
     "text": [
      "Requirement already satisfied: transformers in d:\\programmes\\miniconda3\\envs\\python_main\\lib\\site-packages (4.24.0)\n",
      "Requirement already satisfied: huggingface-hub<1.0,>=0.10.0 in d:\\programmes\\miniconda3\\envs\\python_main\\lib\\site-packages (from transformers) (0.11.0)\n",
      "Requirement already satisfied: tqdm>=4.27 in d:\\programmes\\miniconda3\\envs\\python_main\\lib\\site-packages (from transformers) (4.64.1)\n",
      "Requirement already satisfied: packaging>=20.0 in d:\\programmes\\miniconda3\\envs\\python_main\\lib\\site-packages (from transformers) (21.3)\n",
      "Requirement already satisfied: requests in d:\\programmes\\miniconda3\\envs\\python_main\\lib\\site-packages (from transformers) (2.28.1)\n",
      "Requirement already satisfied: regex!=2019.12.17 in d:\\programmes\\miniconda3\\envs\\python_main\\lib\\site-packages (from transformers) (2022.10.31)\n",
      "Requirement already satisfied: tokenizers!=0.11.3,<0.14,>=0.11.1 in d:\\programmes\\miniconda3\\envs\\python_main\\lib\\site-packages (from transformers) (0.13.2)\n",
      "Requirement already satisfied: numpy>=1.17 in d:\\programmes\\miniconda3\\envs\\python_main\\lib\\site-packages (from transformers) (1.23.3)\n",
      "Requirement already satisfied: filelock in d:\\programmes\\miniconda3\\envs\\python_main\\lib\\site-packages (from transformers) (3.8.0)\n",
      "Requirement already satisfied: pyyaml>=5.1 in d:\\programmes\\miniconda3\\envs\\python_main\\lib\\site-packages (from transformers) (6.0)\n",
      "Requirement already satisfied: typing-extensions>=3.7.4.3 in d:\\programmes\\miniconda3\\envs\\python_main\\lib\\site-packages (from huggingface-hub<1.0,>=0.10.0->transformers) (4.3.0)\n",
      "Requirement already satisfied: pyparsing!=3.0.5,>=2.0.2 in d:\\programmes\\miniconda3\\envs\\python_main\\lib\\site-packages (from packaging>=20.0->transformers) (3.0.9)\n",
      "Requirement already satisfied: colorama in d:\\programmes\\miniconda3\\envs\\python_main\\lib\\site-packages (from tqdm>=4.27->transformers) (0.4.6)\n",
      "Requirement already satisfied: urllib3<1.27,>=1.21.1 in d:\\programmes\\miniconda3\\envs\\python_main\\lib\\site-packages (from requests->transformers) (1.26.12)\n",
      "Requirement already satisfied: charset-normalizer<3,>=2 in d:\\programmes\\miniconda3\\envs\\python_main\\lib\\site-packages (from requests->transformers) (2.0.4)\n",
      "Requirement already satisfied: idna<4,>=2.5 in d:\\programmes\\miniconda3\\envs\\python_main\\lib\\site-packages (from requests->transformers) (3.4)\n",
      "Requirement already satisfied: certifi>=2017.4.17 in d:\\programmes\\miniconda3\\envs\\python_main\\lib\\site-packages (from requests->transformers) (2022.9.24)\n"
     ]
    }
   ],
   "source": [
    "!pip install transformers\n",
    "!pip "
   ]
  }
 ],
 "metadata": {
  "kernelspec": {
   "display_name": "python_main",
   "language": "python",
   "name": "python3"
  },
  "language_info": {
   "codemirror_mode": {
    "name": "ipython",
    "version": 3
   },
   "file_extension": ".py",
   "mimetype": "text/x-python",
   "name": "python",
   "nbconvert_exporter": "python",
   "pygments_lexer": "ipython3",
   "version": "3.10.8"
  },
  "orig_nbformat": 4
 },
 "nbformat": 4,
 "nbformat_minor": 2
}
