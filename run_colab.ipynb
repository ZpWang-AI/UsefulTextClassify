{
 "cells": [
  {
   "cell_type": "code",
   "execution_count": null,
   "metadata": {},
   "outputs": [],
   "source": [
    "!git clone https://github.com/ZpWang-AI/UsefulTextClassify.git\n",
    "%cd UsefulTextClassify/"
   ]
  },
  {
   "cell_type": "code",
   "execution_count": null,
   "metadata": {},
   "outputs": [],
   "source": [
    "!pip install transformers\n",
    "!pip install torcheval"
   ]
  },
  {
   "cell_type": "code",
   "execution_count": 8,
   "metadata": {},
   "outputs": [
    {
     "name": "stdout",
     "output_type": "stream",
     "text": [
      "----- train_main starts"
     ]
    },
    {
     "name": "stderr",
     "output_type": "stream",
     "text": [
      "\n",
      "  0%|          | 0/800 [00:00<?, ?it/s]\n",
      "  0%|          | 0/800 [00:02<?, ?it/s]\n"
     ]
    },
    {
     "name": "stdout",
     "output_type": "stream",
     "text": [
      "\n",
      "=== start preparing data ===\n",
      "=== finish preparing data ===\n",
      "--- eval_main starts\n",
      "macro_f1 : 45.50%\n",
      "micro_f1 : 83.50%\n",
      "accuracy : 83.50%\n",
      "precision: 83.50%\n",
      "recall   : 83.50%\n",
      "\t pred_0\t pred_1\n",
      "gt_0 \t 167 \t 0\n",
      "gt_1 \t 33 \t 0\n",
      "--- eval_main ends, running time: 9.88 s\n",
      "----- train_main ends, running time: 17.36 s\n"
     ]
    }
   ],
   "source": [
    "!python train.py"
   ]
  }
 ],
 "metadata": {
  "kernelspec": {
   "display_name": "python_main",
   "language": "python",
   "name": "python3"
  },
  "language_info": {
   "codemirror_mode": {
    "name": "ipython",
    "version": 3
   },
   "file_extension": ".py",
   "mimetype": "text/x-python",
   "name": "python",
   "nbconvert_exporter": "python",
   "pygments_lexer": "ipython3",
   "version": "3.10.8"
  },
  "orig_nbformat": 4
 },
 "nbformat": 4,
 "nbformat_minor": 2
}
